{
 "cells": [
  {
   "cell_type": "code",
   "execution_count": null,
   "metadata": {},
   "outputs": [],
   "source": [
    "from bokeh.layouts import column\n",
    "from bokeh.models import ColumnDataSource, Slider\n",
    "from bokeh.plotting import figure\n",
    "from bokeh.themes import Theme\n",
    "from bokeh.application.handlers import FunctionHandler\n",
    "from bokeh.application import Application\n",
    "from bokeh.io import show, output_notebook\n",
    "from bokeh.events import Tap\n",
    "import numpy as np\n",
    "\n",
    "output_notebook()"
   ]
  },
  {
   "cell_type": "code",
   "execution_count": null,
   "metadata": {},
   "outputs": [],
   "source": [
    "def modify_doc(doc):\n",
    "    im = np.random.rand(1000, 1000)\n",
    "    plot = figure(title=\"noise\")\n",
    "    plot.image(image=[im], x=0, y=0, dw=1, dh=1, palette=\"Spectral11\")\n",
    "                 \n",
    "    def tap_callback(event):\n",
    "        print(event.x, event.y)\n",
    "    \n",
    "    plot.on_event('tap', tap_callback)\n",
    "    \n",
    "    doc.add_root(plot)\n",
    "                 \n",
    "handler = FunctionHandler(modify_doc)\n",
    "app = Application(handler)\n",
    "doc=app.create_document()"
   ]
  },
  {
   "cell_type": "code",
   "execution_count": null,
   "metadata": {},
   "outputs": [],
   "source": [
    "show(app)"
   ]
  }
 ],
 "metadata": {
  "kernelspec": {
   "display_name": "Python 3",
   "language": "python",
   "name": "python3"
  },
  "language_info": {
   "codemirror_mode": {
    "name": "ipython",
    "version": 3
   },
   "file_extension": ".py",
   "mimetype": "text/x-python",
   "name": "python",
   "nbconvert_exporter": "python",
   "pygments_lexer": "ipython3",
   "version": "3.6.8"
  }
 },
 "nbformat": 4,
 "nbformat_minor": 2
}
